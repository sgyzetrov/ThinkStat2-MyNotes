{
 "cells": [
  {
   "cell_type": "markdown",
   "metadata": {},
   "source": [
    "## 统计思维--程序员数学之概率统计（Think Stats）"
   ]
  },
  {
   "cell_type": "markdown",
   "metadata": {},
   "source": [
    "本书介绍探索性数据分析的实用工具，书中章节按照作者处理数据集时遵循的步骤进行组织。\n",
    "\n",
    "- 导入和清洗\n",
    "- 单变量探索：通常情况下，作者会逐个检查变量，弄清变量的意义，分析变量值的分布，选择合适的汇总统计量。\n",
    "- 成对探索：为了发现变量之间的关系，作者会分析表格和散点图，计算相关性并进行线性拟合。\n",
    "- 多变量分析：如果变量之间存在明显关系，就需要使用多元回归以增加控制变量，从而研究更复杂的关联关系。\n",
    "- 估计和假设检验：在汇报统计结果时，需要考虑：\n",
    "    1. 效应规模如何\n",
    "    2. 在此运行同一测量时，预期的变化性多大？\n",
    "    3. 这个明显的效应是否是偶然产生的？\n",
    "- 可视化：寻找可能关系和效应，可视化可以帮助有效地展示一个统计显著的明显的效应"
   ]
  },
  {
   "cell_type": "code",
   "execution_count": null,
   "metadata": {},
   "outputs": [],
   "source": []
  }
 ],
 "metadata": {
  "kernelspec": {
   "display_name": "Python 3",
   "language": "python",
   "name": "python3"
  },
  "language_info": {
   "codemirror_mode": {
    "name": "ipython",
    "version": 3
   },
   "file_extension": ".py",
   "mimetype": "text/x-python",
   "name": "python",
   "nbconvert_exporter": "python",
   "pygments_lexer": "ipython3",
   "version": "3.6.4"
  },
  "toc": {
   "nav_menu": {},
   "number_sections": false,
   "sideBar": true,
   "skip_h1_title": false,
   "title_cell": "Table of Contents",
   "title_sidebar": "Contents",
   "toc_cell": false,
   "toc_position": {},
   "toc_section_display": true,
   "toc_window_display": false
  }
 },
 "nbformat": 4,
 "nbformat_minor": 2
}
